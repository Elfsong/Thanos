{
 "cells": [
  {
   "cell_type": "code",
   "execution_count": null,
   "metadata": {},
   "outputs": [],
   "source": [
    "import measure\n",
    "import statistics\n",
    "from tqdm import tqdm"
   ]
  },
  {
   "cell_type": "code",
   "execution_count": null,
   "metadata": {},
   "outputs": [],
   "source": [
    "code = r\"\"\"\n",
    "#include <stdio.h>\n",
    "#include <stdlib.h>\n",
    "#include <time.h>\n",
    "\n",
    "#define N 100  // You can adjust this value to make the computation more intensive\n",
    "\n",
    "void multiply_matrices(int **a, int **b, int **c, int n) {\n",
    "    for (int i = 0; i < n; i++) {\n",
    "        for (int j = 0; j < n; j++) {\n",
    "            c[i][j] = 0;\n",
    "            for (int k = 0; k < n; k++) {\n",
    "                c[i][j] += a[i][k] * b[k][j];\n",
    "            }\n",
    "        }\n",
    "    }\n",
    "}\n",
    "\n",
    "int main() {\n",
    "    // Allocate and initialize matrices\n",
    "    int **a = malloc(N * sizeof(int*));\n",
    "    int **b = malloc(N * sizeof(int*));\n",
    "    int **c = malloc(N * sizeof(int*));\n",
    "    for (int i = 0; i < N; i++) {\n",
    "        a[i] = malloc(N * sizeof(int));\n",
    "        b[i] = malloc(N * sizeof(int));\n",
    "        c[i] = malloc(N * sizeof(int));\n",
    "    }\n",
    "\n",
    "    // Initialize matrices with random values\n",
    "    srand(time(NULL));\n",
    "    for (int i = 0; i < N; i++) {\n",
    "        for (int j = 0; j < N; j++) {\n",
    "            a[i][j] = rand() % 10;\n",
    "            b[i][j] = rand() % 10;\n",
    "        }\n",
    "    }\n",
    "\n",
    "    // Measure start time\n",
    "    clock_t start = clock();\n",
    "\n",
    "    // Perform matrix multiplication\n",
    "    multiply_matrices(a, b, c, N);\n",
    "\n",
    "    // Measure end time\n",
    "    clock_t end = clock();\n",
    "\n",
    "    // Calculate and print the elapsed time in seconds\n",
    "    double elapsed_time = (double)(end - start) / CLOCKS_PER_SEC;\n",
    "    printf(\"Time taken: %f seconds\\n\", elapsed_time);\n",
    "\n",
    "    // Free allocated memory\n",
    "    for (int i = 0; i < N; i++) {\n",
    "        free(a[i]);\n",
    "        free(b[i]);\n",
    "        free(c[i]);\n",
    "    }\n",
    "    free(a);\n",
    "    free(b);\n",
    "    free(c);\n",
    "\n",
    "    return 0;\n",
    "}\n",
    "\"\"\""
   ]
  },
  {
   "cell_type": "code",
   "execution_count": null,
   "metadata": {},
   "outputs": [],
   "source": [
    "cid = measure.PerfMeasure().create(code=code, pass_sequence=[])\n",
    "\n",
    "runtimes = list()\n",
    "for i in tqdm(range(16)):\n",
    "    runtimes += [measure.PerfMeasure().measure(cid)]\n",
    "r0 = statistics.fmean(runtimes)\n",
    "print(r0)"
   ]
  },
  {
   "cell_type": "code",
   "execution_count": null,
   "metadata": {},
   "outputs": [],
   "source": [
    "cid = measure.PerfMeasure().create(code=code, pass_sequence=[\"-O3\"])\n",
    "\n",
    "runtimes = list()\n",
    "for i in tqdm(range(16)):\n",
    "    runtimes += [measure.PerfMeasure().measure(cid)]\n",
    "r1 = statistics.fmean(runtimes)\n",
    "print(r1)"
   ]
  },
  {
   "cell_type": "code",
   "execution_count": null,
   "metadata": {},
   "outputs": [],
   "source": [
    "cid = measure.PerfMeasure().create(code=code, pass_sequence=['-LoopRotatePass', '-SROAPass', '-AggressiveDCEPass', '-FunctionInliningPass', '-LoopDeletionPass', '-IndVarSimplifyPass', '-LoopUnswitchPass', '-DeadStoreEliminationPass', '-SCCPPass', '-InstCombinePass', '-GVNPass', '-LoopUnrollPass', '-GlobalDCEPass', '-PromoteMemoryToRegisterPass', '-ReassociatePass', '-TailCallEliminationPass'])\n",
    "\n",
    "runtimes = list()\n",
    "for i in tqdm(range(16)):\n",
    "    runtimes += [measure.PerfMeasure().measure(cid)]\n",
    "r2 = statistics.fmean(runtimes)\n",
    "print(r2)"
   ]
  },
  {
   "cell_type": "code",
   "execution_count": null,
   "metadata": {},
   "outputs": [],
   "source": [
    "cid = measure.PerfMeasure().create(code=code, pass_sequence=['-lower-widenable-condition', '-lower-constant-intrinsics', '-flatten-multicfg', '-callsite-splitting', '-nee-weave', '-add-discriminators', '-embed-bitcode', '-gvn-sink', '-simple-loop-unswitch'])\n",
    "runtimes = list()\n",
    "for i in tqdm(range(16)):\n",
    "    runtimes += [measure.PerfMeasure().measure(cid)]\n",
    "r3 = statistics.fmean(runtimes)\n",
    "print(r3)"
   ]
  },
  {
   "cell_type": "code",
   "execution_count": null,
   "metadata": {},
   "outputs": [],
   "source": [
    "print(r0, r1, r2, r3)"
   ]
  },
  {
   "cell_type": "code",
   "execution_count": null,
   "metadata": {},
   "outputs": [],
   "source": [
    "r0 / r1"
   ]
  },
  {
   "cell_type": "code",
   "execution_count": null,
   "metadata": {},
   "outputs": [],
   "source": [
    "r0 / r2"
   ]
  },
  {
   "cell_type": "code",
   "execution_count": null,
   "metadata": {},
   "outputs": [],
   "source": [
    "from datasets import load_dataset\n",
    "\n",
    "# specific language (e.g. Dockerfiles)\n",
    "ds = load_dataset(\"bigcode/the-stack-v2-dedup\", \"C++\", split=\"train\")"
   ]
  },
  {
   "cell_type": "code",
   "execution_count": null,
   "metadata": {},
   "outputs": [],
   "source": [
    "import os\n",
    "import boto3\n",
    "from smart_open import open\n",
    "from datasets import load_dataset\n",
    "\n",
    "session = boto3.Session(\n",
    "    aws_access_key_id=os.environ[\"AWS_ACCESS_KEY_ID\"],\n",
    "    aws_secret_access_key=os.environ[\"AWS_SECRET_ACCESS_KEY\"])\n",
    "s3 = session.client(\"s3\")\n",
    "\n",
    "def download_contents(blob_id, src_encoding):\n",
    "    s3_url = f\"s3://softwareheritage/content/{blob_id}\"\n",
    "    \n",
    "    with open(s3_url, \"rb\", compression=\".gz\", transport_params={\"client\": s3}) as fin:\n",
    "        content = fin.read().decode(src_encoding)\n",
    "    \n",
    "    return {\"content\": content}\n",
    "\n",
    "ds = load_dataset(\"bigcode/the-stack-v2-dedup\", split=\"train\", streaming=True)\n",
    "ds = ds.map(lambda row: download_contents(row[\"blob_id\"], row[\"src_encoding\"]))\n",
    "for row in ds:\n",
    "    print(row[\"content\"])\n",
    "    break\n"
   ]
  },
  {
   "cell_type": "code",
   "execution_count": null,
   "metadata": {},
   "outputs": [],
   "source": [
    "from  datasets  import  load_dataset\n",
    "\n",
    "ds = load_dataset(\"bigcode/the-stack\", data_dir=\"data/c\", streaming=True, split=\"train\")\n",
    "i = 0\n",
    "\n",
    "for sample in iter(ds): \n",
    "    print(sample[\"content\"])\n",
    "    i += 1\n",
    "    if i > 10:\n",
    "        break\n",
    "\n",
    "    "
   ]
  },
  {
   "cell_type": "code",
   "execution_count": null,
   "metadata": {},
   "outputs": [],
   "source": []
  }
 ],
 "metadata": {
  "kernelspec": {
   "display_name": "thanos",
   "language": "python",
   "name": "python3"
  },
  "language_info": {
   "codemirror_mode": {
    "name": "ipython",
    "version": 3
   },
   "file_extension": ".py",
   "mimetype": "text/x-python",
   "name": "python",
   "nbconvert_exporter": "python",
   "pygments_lexer": "ipython3",
   "version": "3.11.9"
  }
 },
 "nbformat": 4,
 "nbformat_minor": 2
}
